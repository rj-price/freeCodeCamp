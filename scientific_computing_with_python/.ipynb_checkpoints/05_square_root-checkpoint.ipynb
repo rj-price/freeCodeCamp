{
 "cells": [
  {
   "cell_type": "markdown",
   "id": "7b3b127b-ac34-4294-9383-e4da1a31c13f",
   "metadata": {},
   "source": [
    "# Scientific Computing with Python\n",
    "\n",
    "## 05. Learn the Bisection Method by Finding the Square Root of a Number\n",
    "\n",
    "Numerical methods are used to approximate solutions to mathematical problems that are difficult or impossible to solve analytically.\n",
    "\n",
    "In this project, you will explore the numerical method of bisection to find the square root of a number by iteratively narrowing down the possible range of values that contain the square root."
   ]
  },
  {
   "cell_type": "code",
   "execution_count": 2,
   "id": "d668a2ad-4d89-49da-9a57-64794d8c742b",
   "metadata": {},
   "outputs": [],
   "source": [
    "def square_root_bisection(square_target, tolerance=1e-7, max_iterations=100):\n",
    "    if square_target < 0:\n",
    "        raise ValueError('Square root of negative number is not defined in real numbers')\n",
    "    if square_target == 1:\n",
    "        root = 1\n",
    "        print(f'The square root of {square_target} is 1')\n",
    "    elif square_target == 0:\n",
    "        root = 0\n",
    "        print(f'The square root of {square_target} is 0')\n",
    "\n",
    "    else:\n",
    "        low = 0\n",
    "        high = max(1, square_target)\n",
    "        root = None\n",
    "        \n",
    "        for _ in range(max_iterations):\n",
    "            mid = (low + high) / 2\n",
    "            square_mid = mid**2\n",
    "\n",
    "            if abs(square_mid - square_target) < tolerance:\n",
    "                root = mid\n",
    "                break\n",
    "\n",
    "            elif square_mid < square_target:\n",
    "                low = mid\n",
    "            else:\n",
    "                high = mid\n",
    "\n",
    "        if root is None:\n",
    "            print(f\"Failed to converge within {max_iterations} iterations.\")\n",
    "    \n",
    "        else:   \n",
    "            print(f'The square root of {square_target} is approximately {root}')\n",
    "    \n",
    "    return root\n"
   ]
  },
  {
   "cell_type": "code",
   "execution_count": 3,
   "id": "d7e29677-3652-43f3-b1c9-0ae1c8f15cd4",
   "metadata": {},
   "outputs": [
    {
     "name": "stdout",
     "output_type": "stream",
     "text": [
      "The square root of 16 is approximately 4.0\n"
     ]
    },
    {
     "data": {
      "text/plain": [
       "4.0"
      ]
     },
     "execution_count": 3,
     "metadata": {},
     "output_type": "execute_result"
    }
   ],
   "source": [
    "N = 16\n",
    "square_root_bisection(N)"
   ]
  }
 ],
 "metadata": {
  "kernelspec": {
   "display_name": "Python 3 (ipykernel)",
   "language": "python",
   "name": "python3"
  },
  "language_info": {
   "codemirror_mode": {
    "name": "ipython",
    "version": 3
   },
   "file_extension": ".py",
   "mimetype": "text/x-python",
   "name": "python",
   "nbconvert_exporter": "python",
   "pygments_lexer": "ipython3",
   "version": "3.12.3"
  }
 },
 "nbformat": 4,
 "nbformat_minor": 5
}
