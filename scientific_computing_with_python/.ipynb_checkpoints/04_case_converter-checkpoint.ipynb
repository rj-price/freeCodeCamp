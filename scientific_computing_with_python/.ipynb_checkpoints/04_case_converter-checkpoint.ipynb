{
 "cells": [
  {
   "cell_type": "markdown",
   "id": "8490db84-e5c9-4c68-aeb7-cfa8bbbb211a",
   "metadata": {},
   "source": [
    "# Scientific Computing with Python\n",
    "\n",
    "## 04. Learn Python List Comprehension by Building a Case Converter Program\n",
    "\n",
    "List Comprehension is a way to construct a new Python list from an iterable types: lists, tuples, and strings. All without using a for loop or the `.append()` list method.\n",
    "\n",
    "In this project, you'll write a program that takes a string formatted in Camel Case or Pascal Case, then converts it into Snake Case.\n",
    "\n",
    "The project has two phases: first you'll use a for loop to implement the program. Then you'll learn how to use List Comprehension instead of a loop to achieve the same results."
   ]
  },
  {
   "cell_type": "code",
   "execution_count": 1,
   "id": "c6950840-79f0-4927-a29e-e8b582b45561",
   "metadata": {},
   "outputs": [
    {
     "name": "stdout",
     "output_type": "stream",
     "text": [
      "a_long_and_complex_string\n"
     ]
    }
   ],
   "source": [
    "def convert_to_snake_case(pascal_or_camel_cased_string):\n",
    "    snake_cased_char_list = []\n",
    "    for char in pascal_or_camel_cased_string:\n",
    "        if char.isupper():\n",
    "            converted_character = '_' + char.lower()\n",
    "            snake_cased_char_list.append(converted_character)\n",
    "        else:\n",
    "            snake_cased_char_list.append(char)\n",
    "    snake_cased_string = ''.join(snake_cased_char_list)\n",
    "    clean_snake_cased_string = snake_cased_string.strip('_')\n",
    "\n",
    "    return clean_snake_cased_string\n",
    "\n",
    "def main():\n",
    "    print(convert_to_snake_case('aLongAndComplexString'))\n",
    "\n",
    "main()"
   ]
  },
  {
   "cell_type": "code",
   "execution_count": 2,
   "id": "ebed1f69-803e-42f8-b5f2-d59c3874fe13",
   "metadata": {},
   "outputs": [
    {
     "name": "stdout",
     "output_type": "stream",
     "text": [
      "a_long_and_complex_string\n"
     ]
    }
   ],
   "source": [
    "def convert_to_snake_case(pascal_or_camel_cased_string):\n",
    "\n",
    "    snake_cased_char_list = [\n",
    "        '_' + char.lower() if char.isupper()\n",
    "        else char\n",
    "        for char in pascal_or_camel_cased_string\n",
    "    ]\n",
    "\n",
    "    return ''.join(snake_cased_char_list).strip('_')\n",
    "\n",
    "def main():\n",
    "    print(convert_to_snake_case('aLongAndComplexString'))\n",
    "\n",
    "main()"
   ]
  }
 ],
 "metadata": {
  "kernelspec": {
   "display_name": "Python 3 (ipykernel)",
   "language": "python",
   "name": "python3"
  },
  "language_info": {
   "codemirror_mode": {
    "name": "ipython",
    "version": 3
   },
   "file_extension": ".py",
   "mimetype": "text/x-python",
   "name": "python",
   "nbconvert_exporter": "python",
   "pygments_lexer": "ipython3",
   "version": "3.12.3"
  }
 },
 "nbformat": 4,
 "nbformat_minor": 5
}
