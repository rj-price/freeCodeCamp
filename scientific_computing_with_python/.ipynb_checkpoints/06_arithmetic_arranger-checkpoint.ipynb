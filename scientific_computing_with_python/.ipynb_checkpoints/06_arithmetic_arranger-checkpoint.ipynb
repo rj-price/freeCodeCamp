{
 "cells": [
  {
   "cell_type": "markdown",
   "id": "744c5820-786e-4bed-a8f8-86d7de97fdaa",
   "metadata": {},
   "source": [
    "# Scientific Computing with Python\n",
    "\n",
    "## 06. Build an Arithmetic Formatter Project (Certification Project)\n",
    "Students in primary school often arrange arithmetic problems vertically to make them easier to solve. \n",
    "\n",
    "Finish the arithmetic_arranger function that receives a list of strings which are arithmetic problems, and returns the problems arranged vertically and side-by-side. The function should optionally take a second argument. When the second argument is set to True, the answers should be displayed.\n",
    "\n",
    "### Rules\n",
    "The function will return the correct conversion if the supplied problems are properly formatted, otherwise, it will return a string that describes an error that is meaningful to the user.\n",
    "\n",
    "Situations that will return an error:\n",
    "- If there are too many problems supplied to the function. The limit is five, anything more will return: 'Error: Too many problems.'\n",
    "- The appropriate operators the function will accept are addition and subtraction. Multiplication and division will return an error. Other operators not mentioned in this bullet point will not need to be tested. The error returned will be: \"Error: Operator must be '+' or '-'.\"\n",
    "- Each number (operand) should only contain digits. Otherwise, the function will return: 'Error: Numbers must only contain digits.'\n",
    "- Each operand (aka number on each side of the operator) has a max of four digits in width. Otherwise, the error string returned will be: 'Error: Numbers cannot be more than four digits.'\n",
    "\n",
    "If the user supplied the correct format of problems, the conversion you return will follow these rules:\n",
    "- There should be a single space between the operator and the longest of the two operands, the operator will be on the same line as the second operand, both operands will be in the same order as provided (the first will be the top one and the second will be the bottom).\n",
    "- Numbers should be right-aligned.\n",
    "- There should be four spaces between each problem.\n",
    "- There should be dashes at the bottom of each problem. The dashes should run along the entire length of each problem individually. (The example above shows what this should look like.)"
   ]
  },
  {
   "cell_type": "code",
   "execution_count": 1,
   "id": "adda5d7a-deac-4a8f-a399-821ea7702520",
   "metadata": {},
   "outputs": [],
   "source": [
    "def arithmetic_arranger(problems, show_answers=False):\n",
    "    if len(problems) > 5:\n",
    "        return 'Error: Too many problems.'\n",
    "\n",
    "    first = []\n",
    "    symbol = []\n",
    "    second = []\n",
    "    answers = []\n",
    "\n",
    "    for problem in problems:\n",
    "        components = problem.split()\n",
    "        first.append(components[0])\n",
    "        symbol.append(components[1])\n",
    "        second.append(components[2])\n",
    "\n",
    "    if '*' in symbol or '/' in symbol:\n",
    "        return \"Error: Operator must be '+' or '-'.\"\n",
    "    \n",
    "    for i in range(len(problems)):\n",
    "        if len(first[i]) > 4 or len(second[i]) > 4:\n",
    "            return 'Error: Numbers cannot be more than four digits.'\n",
    "    \n",
    "    for number in first:\n",
    "        for i in range(len(number)):\n",
    "            if number[i] not in ['1','2','3','4','5','6','7','8','9','0']:\n",
    "                return 'Error: Numbers must only contain digits.'\n",
    "    for number in second:\n",
    "        for i in range(len(number)):\n",
    "            if number[i] not in ['1','2','3','4','5','6','7','8','9','0']:\n",
    "                return 'Error: Numbers must only contain digits.'\n",
    "\n",
    "    first_line = ''\n",
    "    second_line = ''\n",
    "    third_line = ''\n",
    "    fourth_line = ''\n",
    "\n",
    "    for i in range(len(problems)):\n",
    "        if len(first[i]) > len(second[i]):\n",
    "            space = len(first[i]) - len(second[i])\n",
    "            first_line += '  '+first[i]+'    '\n",
    "            second_line += symbol[i]+((space+1)*' ')+second[i]+'    '\n",
    "            third_line += (len(first[i])+2)*'-'+'    '\n",
    "            fourth_line += (((len(first[i])+2)-len(str(eval(problems[i]))))*' ') + str(eval(problems[i])) + '    '\n",
    "        elif len(first[i]) < len(second[i]):\n",
    "            space = len(second[i]) - len(first[i])\n",
    "            first_line += ((space+2)*' ')+first[i]+'    '\n",
    "            second_line += symbol[i]+' '+second[i]+'    '\n",
    "            third_line += (len(second[i])+2)*'-'+'    '\n",
    "            fourth_line += (((len(second[i])+2)-len(str(eval(problems[i]))))*' ') + str(eval(problems[i])) + '    '\n",
    "        else:\n",
    "            first_line += '  '+first[i]+'    '\n",
    "            second_line += symbol[i]+' '+second[i]+'    '\n",
    "            third_line += (len(second[i])+2)*'-'+'    '\n",
    "            fourth_line += (((len(second[i])+2)-len(str(eval(problems[i]))))*' ') + str(eval(problems[i])) + '    '\n",
    "\n",
    "\n",
    "    first_line = first_line.rstrip()\n",
    "    second_line = second_line.rstrip()\n",
    "    third_line = third_line.rstrip()\n",
    "    fourth_line = fourth_line.rstrip()\n",
    "\n",
    "    output = f'{first_line}\\n{second_line}\\n{third_line}'\n",
    "    out_answers = f'{first_line}\\n{second_line}\\n{third_line}\\n{fourth_line}'\n",
    "\n",
    "    if show_answers:\n",
    "        return out_answers\n",
    "    else:\n",
    "        return output"
   ]
  },
  {
   "cell_type": "code",
   "execution_count": 2,
   "id": "59e5290b-0365-4271-a589-b90888ee9a55",
   "metadata": {},
   "outputs": [
    {
     "name": "stdout",
     "output_type": "stream",
     "text": [
      "  3801      123\n",
      "-    2    +  49\n",
      "------    -----\n"
     ]
    }
   ],
   "source": [
    "print(arithmetic_arranger([\"3801 - 2\", \"123 + 49\"]))"
   ]
  },
  {
   "cell_type": "code",
   "execution_count": 3,
   "id": "d112b5c7-e5b1-448a-b879-fce87648cc2e",
   "metadata": {},
   "outputs": [
    {
     "name": "stdout",
     "output_type": "stream",
     "text": [
      "  1         1\n",
      "+ 2    - 9380\n",
      "---    ------\n"
     ]
    }
   ],
   "source": [
    "print(arithmetic_arranger([\"1 + 2\", \"1 - 9380\"]))"
   ]
  },
  {
   "cell_type": "code",
   "execution_count": 4,
   "id": "926c7453-d2f1-4da7-9ef0-a395a7cd7213",
   "metadata": {},
   "outputs": [
    {
     "name": "stdout",
     "output_type": "stream",
     "text": [
      "    3      3801      45      123\n",
      "+ 855    -    2    + 43    +  49\n",
      "-----    ------    ----    -----\n"
     ]
    }
   ],
   "source": [
    "print(arithmetic_arranger([\"3 + 855\", \"3801 - 2\", \"45 + 43\", \"123 + 49\"]))"
   ]
  },
  {
   "cell_type": "code",
   "execution_count": 5,
   "id": "5bd5884e-dd16-4d2d-9ff3-5887bf7637d4",
   "metadata": {},
   "outputs": [
    {
     "name": "stdout",
     "output_type": "stream",
     "text": [
      "  11      3801      1      123         1\n",
      "+  4    - 2999    + 2    +  49    - 9380\n",
      "----    ------    ---    -----    ------\n"
     ]
    }
   ],
   "source": [
    "print(arithmetic_arranger([\"11 + 4\", \"3801 - 2999\", \"1 + 2\", \"123 + 49\", \"1 - 9380\"]))"
   ]
  },
  {
   "cell_type": "code",
   "execution_count": 6,
   "id": "c72da5f6-1dd4-4558-bc9c-778936f58115",
   "metadata": {},
   "outputs": [
    {
     "name": "stdout",
     "output_type": "stream",
     "text": [
      "Error: Too many problems.\n"
     ]
    }
   ],
   "source": [
    "print(arithmetic_arranger([\"44 + 815\", \"909 - 2\", \"45 + 43\", \"123 + 49\", \"888 + 40\", \"653 + 87\"]))"
   ]
  },
  {
   "cell_type": "code",
   "execution_count": 7,
   "id": "93178671-7471-44f6-87ec-86d1cf76b1a5",
   "metadata": {},
   "outputs": [
    {
     "name": "stdout",
     "output_type": "stream",
     "text": [
      "Error: Operator must be '+' or '-'.\n"
     ]
    }
   ],
   "source": [
    "print(arithmetic_arranger([\"3 / 855\", \"3801 - 2\", \"45 + 43\", \"123 + 49\"]))"
   ]
  },
  {
   "cell_type": "code",
   "execution_count": 8,
   "id": "b968301b-22fb-4d9d-a0cd-404ae2dc4748",
   "metadata": {},
   "outputs": [
    {
     "name": "stdout",
     "output_type": "stream",
     "text": [
      "Error: Numbers cannot be more than four digits.\n"
     ]
    }
   ],
   "source": [
    "print(arithmetic_arranger([\"24 + 85215\", \"3801 - 2\", \"45 + 43\", \"123 + 49\"]))"
   ]
  },
  {
   "cell_type": "code",
   "execution_count": 9,
   "id": "6dfecf0c-55b4-435e-953a-b5cf3f9e403a",
   "metadata": {},
   "outputs": [
    {
     "name": "stdout",
     "output_type": "stream",
     "text": [
      "Error: Numbers must only contain digits.\n"
     ]
    }
   ],
   "source": [
    "print(arithmetic_arranger([\"98 + 3g5\", \"3801 - 2\", \"45 + 43\", \"123 + 49\"]))"
   ]
  },
  {
   "cell_type": "code",
   "execution_count": 10,
   "id": "630d2b6f-44e7-47e5-bf09-8f837b14398d",
   "metadata": {},
   "outputs": [
    {
     "name": "stdout",
     "output_type": "stream",
     "text": [
      "    3      988\n",
      "+ 855    +  40\n",
      "-----    -----\n",
      "  858     1028\n"
     ]
    }
   ],
   "source": [
    "print(arithmetic_arranger([\"3 + 855\", \"988 + 40\"], True))"
   ]
  },
  {
   "cell_type": "code",
   "execution_count": 11,
   "id": "61d6c3a2-2126-413d-974c-366112079671",
   "metadata": {},
   "outputs": [
    {
     "name": "stdout",
     "output_type": "stream",
     "text": [
      "   32         1      45      123      988\n",
      "- 698    - 3801    + 43    +  49    +  40\n",
      "-----    ------    ----    -----    -----\n",
      " -666     -3800      88      172     1028\n"
     ]
    }
   ],
   "source": [
    "print(arithmetic_arranger([\"32 - 698\", \"1 - 3801\", \"45 + 43\", \"123 + 49\", \"988 + 40\"], True))"
   ]
  },
  {
   "cell_type": "code",
   "execution_count": null,
   "id": "2cd62c62-3fc4-46f5-9fb9-551e85e7a057",
   "metadata": {},
   "outputs": [],
   "source": []
  }
 ],
 "metadata": {
  "kernelspec": {
   "display_name": "Python 3 (ipykernel)",
   "language": "python",
   "name": "python3"
  },
  "language_info": {
   "codemirror_mode": {
    "name": "ipython",
    "version": 3
   },
   "file_extension": ".py",
   "mimetype": "text/x-python",
   "name": "python",
   "nbconvert_exporter": "python",
   "pygments_lexer": "ipython3",
   "version": "3.12.3"
  }
 },
 "nbformat": 4,
 "nbformat_minor": 5
}
