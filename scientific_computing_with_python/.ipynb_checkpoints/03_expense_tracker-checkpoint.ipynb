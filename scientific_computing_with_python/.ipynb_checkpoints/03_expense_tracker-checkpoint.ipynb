{
 "cells": [
  {
   "cell_type": "markdown",
   "id": "9de05b9a-35be-4b72-9541-fda18d70aba0",
   "metadata": {},
   "source": [
    "# Scientific Computing with Python\n",
    "\n",
    "## 03. Learn Lambda Functions by Building an Expense Tracker\n",
    "\n",
    "Lambda functions give you a concise way to write small, throwaway functions in your code."
   ]
  },
  {
   "cell_type": "code",
   "execution_count": 1,
   "id": "45eca3d8-370d-4ba3-bb17-1fc9b0792f8a",
   "metadata": {},
   "outputs": [],
   "source": [
    "def add_expense(expenses, amount, category):\n",
    "    expenses.append({'amount': amount, 'category': category})\n",
    "    \n",
    "def print_expenses(expenses):\n",
    "    for expense in expenses:\n",
    "        print(f'Amount: {expense[\"amount\"]}, Category: {expense[\"category\"]}')\n",
    "    \n",
    "def total_expenses(expenses):\n",
    "    return sum(map(lambda expense: expense['amount'], expenses))\n",
    "    \n",
    "def filter_expenses_by_category(expenses, category):\n",
    "    return filter(lambda expense: expense['category'] == category, expenses)\n"
   ]
  },
  {
   "cell_type": "code",
   "execution_count": 2,
   "id": "a99e148a-9a80-455a-a793-6e88bec2cfbb",
   "metadata": {},
   "outputs": [],
   "source": [
    "def main():\n",
    "    expenses = []\n",
    "    while True:\n",
    "        print('\\nExpense Tracker')\n",
    "        print('1. Add an expense')\n",
    "        print('2. List all expenses')\n",
    "        print('3. Show total expenses')\n",
    "        print('4. Filter expenses by category')\n",
    "        print('5. Exit')\n",
    "       \n",
    "        choice = input('Enter your choice: ')\n",
    "\n",
    "        if choice == '1':\n",
    "            amount = float(input('Enter amount: '))\n",
    "            category = input('Enter category: ')\n",
    "            add_expense(expenses, amount, category)\n",
    "\n",
    "        elif choice == '2':\n",
    "            print('\\nAll Expenses:')\n",
    "            print_expenses(expenses)\n",
    "    \n",
    "        elif choice == '3':\n",
    "            print('\\nTotal Expenses: ', total_expenses(expenses))\n",
    "    \n",
    "        elif choice == '4':\n",
    "            category = input('\\nEnter category to filter: ')\n",
    "            print(f'\\nExpenses for {category}:')\n",
    "            expenses_from_category = filter_expenses_by_category(expenses, category)\n",
    "            print_expenses(expenses_from_category)\n",
    "    \n",
    "        elif choice == '5':\n",
    "            print('\\nExiting the program.')\n",
    "            break"
   ]
  },
  {
   "cell_type": "code",
   "execution_count": 3,
   "id": "b4848a4b-7555-4ff1-8fc4-e53d0e42ec16",
   "metadata": {},
   "outputs": [
    {
     "name": "stdout",
     "output_type": "stream",
     "text": [
      "\n",
      "Expense Tracker\n",
      "1. Add an expense\n",
      "2. List all expenses\n",
      "3. Show total expenses\n",
      "4. Filter expenses by category\n",
      "5. Exit\n"
     ]
    },
    {
     "name": "stdin",
     "output_type": "stream",
     "text": [
      "Enter your choice:  1\n",
      "Enter amount:  5\n",
      "Enter category:  food\n"
     ]
    },
    {
     "name": "stdout",
     "output_type": "stream",
     "text": [
      "\n",
      "Expense Tracker\n",
      "1. Add an expense\n",
      "2. List all expenses\n",
      "3. Show total expenses\n",
      "4. Filter expenses by category\n",
      "5. Exit\n"
     ]
    },
    {
     "name": "stdin",
     "output_type": "stream",
     "text": [
      "Enter your choice:  1\n",
      "Enter amount:  100\n",
      "Enter category:  bill\n"
     ]
    },
    {
     "name": "stdout",
     "output_type": "stream",
     "text": [
      "\n",
      "Expense Tracker\n",
      "1. Add an expense\n",
      "2. List all expenses\n",
      "3. Show total expenses\n",
      "4. Filter expenses by category\n",
      "5. Exit\n"
     ]
    },
    {
     "name": "stdin",
     "output_type": "stream",
     "text": [
      "Enter your choice:  1\n",
      "Enter amount:  20\n",
      "Enter category:  entertainment\n"
     ]
    },
    {
     "name": "stdout",
     "output_type": "stream",
     "text": [
      "\n",
      "Expense Tracker\n",
      "1. Add an expense\n",
      "2. List all expenses\n",
      "3. Show total expenses\n",
      "4. Filter expenses by category\n",
      "5. Exit\n"
     ]
    },
    {
     "name": "stdin",
     "output_type": "stream",
     "text": [
      "Enter your choice:  2\n"
     ]
    },
    {
     "name": "stdout",
     "output_type": "stream",
     "text": [
      "\n",
      "All Expenses:\n",
      "Amount: 5.0, Category: food\n",
      "Amount: 100.0, Category: bill\n",
      "Amount: 20.0, Category: entertainment\n",
      "\n",
      "Expense Tracker\n",
      "1. Add an expense\n",
      "2. List all expenses\n",
      "3. Show total expenses\n",
      "4. Filter expenses by category\n",
      "5. Exit\n"
     ]
    },
    {
     "name": "stdin",
     "output_type": "stream",
     "text": [
      "Enter your choice:  3\n"
     ]
    },
    {
     "name": "stdout",
     "output_type": "stream",
     "text": [
      "\n",
      "Total Expenses:  125.0\n",
      "\n",
      "Expense Tracker\n",
      "1. Add an expense\n",
      "2. List all expenses\n",
      "3. Show total expenses\n",
      "4. Filter expenses by category\n",
      "5. Exit\n"
     ]
    },
    {
     "name": "stdin",
     "output_type": "stream",
     "text": [
      "Enter your choice:  4\n",
      "Enter category to filter:  bill\n"
     ]
    },
    {
     "name": "stdout",
     "output_type": "stream",
     "text": [
      "\n",
      "Expenses for bill:\n",
      "Amount: 100.0, Category: bill\n",
      "\n",
      "Expense Tracker\n",
      "1. Add an expense\n",
      "2. List all expenses\n",
      "3. Show total expenses\n",
      "4. Filter expenses by category\n",
      "5. Exit\n"
     ]
    },
    {
     "name": "stdin",
     "output_type": "stream",
     "text": [
      "Enter your choice:  5\n"
     ]
    },
    {
     "name": "stdout",
     "output_type": "stream",
     "text": [
      "Exiting the program.\n"
     ]
    }
   ],
   "source": [
    "main()"
   ]
  },
  {
   "cell_type": "code",
   "execution_count": null,
   "id": "c7dc123d-c906-491d-8340-db9631178d03",
   "metadata": {},
   "outputs": [],
   "source": []
  }
 ],
 "metadata": {
  "kernelspec": {
   "display_name": "Python 3 (ipykernel)",
   "language": "python",
   "name": "python3"
  },
  "language_info": {
   "codemirror_mode": {
    "name": "ipython",
    "version": 3
   },
   "file_extension": ".py",
   "mimetype": "text/x-python",
   "name": "python",
   "nbconvert_exporter": "python",
   "pygments_lexer": "ipython3",
   "version": "3.12.3"
  }
 },
 "nbformat": 4,
 "nbformat_minor": 5
}
