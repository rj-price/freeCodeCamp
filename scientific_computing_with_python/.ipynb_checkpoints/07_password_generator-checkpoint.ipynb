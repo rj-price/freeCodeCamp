{
 "cells": [
  {
   "cell_type": "markdown",
   "id": "b454d7f5-600f-486a-a69d-a1a99f0c9c0f",
   "metadata": {},
   "source": [
    "# Scientific Computing with Python\n",
    "\n",
    "## 07. Learn Regular Expressions by Building a Password Generator\n",
    "\n",
    "A Python module is a file that contains a set of statements and definitions that you can use in your code.\n",
    "\n",
    "In this project, you'll learn how to import modules from the Python standard library. You'll also learn how to use Regular Expressions by building your own password generator program."
   ]
  },
  {
   "cell_type": "code",
   "execution_count": 2,
   "id": "ba6e0b1c-2028-466c-92a9-3f000350c49f",
   "metadata": {},
   "outputs": [
    {
     "name": "stdout",
     "output_type": "stream",
     "text": [
      "9tjX0j`f\n"
     ]
    }
   ],
   "source": [
    "import re\n",
    "import secrets\n",
    "import string\n",
    "\n",
    "\n",
    "def generate_password(length, nums, special_chars, uppercase, lowercase):\n",
    "    # Define the possible characters for the password\n",
    "    letters = string.ascii_letters\n",
    "    digits = string.digits\n",
    "    symbols = string.punctuation\n",
    "\n",
    "    # Combine all characters\n",
    "    all_characters = letters + digits + symbols\n",
    "\n",
    "    while True:\n",
    "        password = ''\n",
    "        # Generate password\n",
    "        for _ in range(length):\n",
    "            password += secrets.choice(all_characters)\n",
    "       \n",
    "        constraints = [\n",
    "            (nums, r'\\d'),\n",
    "            (lowercase, r'[a-z]'),\n",
    "            (uppercase, r'[A-Z]'),            \n",
    "            (special_chars, fr'[{symbols}]')            \n",
    "        ]\n",
    "\n",
    "        # Check constraints\n",
    "        count = 0\n",
    "        for constraint, pattern in constraints:\n",
    "            if constraint <= len(re.findall(pattern, password)):\n",
    "                count += 1\n",
    "            \n",
    "        if count == 4:\n",
    "            break\n",
    "\n",
    "    return password\n",
    "\n",
    "new_password = generate_password(8, 1, 1, 1, 1)\n",
    "print(new_password)"
   ]
  },
  {
   "cell_type": "code",
   "execution_count": 3,
   "id": "4b8a4d9c-969d-488b-970b-3065eb729517",
   "metadata": {},
   "outputs": [
    {
     "name": "stdout",
     "output_type": "stream",
     "text": [
      "Generated password: '3mE_nrstk1eNhkv\n"
     ]
    }
   ],
   "source": [
    "import re\n",
    "import secrets\n",
    "import string\n",
    "\n",
    "\n",
    "def generate_password(length=16, nums=1, special_chars=1, uppercase=1, lowercase=1):\n",
    "\n",
    "    # Define the possible characters for the password\n",
    "    letters = string.ascii_letters\n",
    "    digits = string.digits\n",
    "    symbols = string.punctuation\n",
    "\n",
    "    # Combine all characters\n",
    "    all_characters = letters + digits + symbols\n",
    "\n",
    "    while True:\n",
    "        password = ''\n",
    "        # Generate password\n",
    "        for _ in range(length):\n",
    "            password += secrets.choice(all_characters)\n",
    "        \n",
    "        constraints = [\n",
    "            (nums, r'\\d'),\n",
    "            (special_chars, fr'[{symbols}]'),\n",
    "            (uppercase, r'[A-Z]'),\n",
    "            (lowercase, r'[a-z]')\n",
    "        ]\n",
    "\n",
    "        # Check constraints        \n",
    "        if all(\n",
    "            constraint <= len(re.findall(pattern, password))\n",
    "            for constraint, pattern in constraints\n",
    "        ):\n",
    "            break\n",
    "    \n",
    "    return password\n",
    "    \n",
    "if __name__ == '__main__':\n",
    "    new_password = generate_password()\n",
    "    print('Generated password:', new_password)"
   ]
  },
  {
   "cell_type": "code",
   "execution_count": 4,
   "id": "f360124f-e6d4-452f-af14-3d04fcc2ca07",
   "metadata": {},
   "outputs": [
    {
     "data": {
      "text/plain": [
       "'HJ97YC@y'"
      ]
     },
     "execution_count": 4,
     "metadata": {},
     "output_type": "execute_result"
    }
   ],
   "source": [
    "generate_password(length=8)"
   ]
  }
 ],
 "metadata": {
  "kernelspec": {
   "display_name": "Python 3 (ipykernel)",
   "language": "python",
   "name": "python3"
  },
  "language_info": {
   "codemirror_mode": {
    "name": "ipython",
    "version": 3
   },
   "file_extension": ".py",
   "mimetype": "text/x-python",
   "name": "python",
   "nbconvert_exporter": "python",
   "pygments_lexer": "ipython3",
   "version": "3.12.3"
  }
 },
 "nbformat": 4,
 "nbformat_minor": 5
}
