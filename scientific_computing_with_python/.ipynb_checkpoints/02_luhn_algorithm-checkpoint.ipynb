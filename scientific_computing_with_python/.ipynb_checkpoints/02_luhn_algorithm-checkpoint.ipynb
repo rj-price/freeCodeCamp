{
 "cells": [
  {
   "cell_type": "markdown",
   "id": "a1045800-ea13-4175-bcb8-07bdb6161ef5",
   "metadata": {},
   "source": [
    "# Scientific Computing with Python\n",
    "\n",
    "## 02. Learn How to Work with Numbers and Strings by Implementing the Luhn Algorithm\n",
    "\n",
    "The Luhn Algorithm is widely used for error-checking in various applications, such as verifying credit card numbers."
   ]
  },
  {
   "cell_type": "code",
   "execution_count": 1,
   "id": "0affacc8-6f65-492a-822a-87664b9ed1a5",
   "metadata": {},
   "outputs": [],
   "source": [
    "def verify_card_number(card_number):\n",
    "    sum_of_odd_digits = 0\n",
    "    card_number_reversed = card_number[::-1]\n",
    "    odd_digits = card_number_reversed[::2]\n",
    "\n",
    "    for digit in odd_digits:\n",
    "        sum_of_odd_digits += int(digit)\n",
    "\n",
    "    sum_of_even_digits = 0\n",
    "    \n",
    "    even_digits = card_number_reversed[1::2]\n",
    "    for digit in even_digits:\n",
    "        number = int(digit) * 2\n",
    "        if number >= 10:\n",
    "            number = (number // 10) + (number % 10)\n",
    "        sum_of_even_digits += number\n",
    "    total = sum_of_odd_digits + sum_of_even_digits\n",
    "\n",
    "    return total % 10 == 0"
   ]
  },
  {
   "cell_type": "code",
   "execution_count": 2,
   "id": "9f244bd4-c73e-45c3-9141-0b41a801a531",
   "metadata": {},
   "outputs": [],
   "source": [
    "def main(card_number):\n",
    "    card_translation = str.maketrans({'-': '', ' ': ''})\n",
    "    translated_card_number = card_number.translate(card_translation)\n",
    "\n",
    "    if verify_card_number(translated_card_number):\n",
    "        print('VALID!')\n",
    "    else:\n",
    "        print('INVALID!')"
   ]
  },
  {
   "cell_type": "code",
   "execution_count": 3,
   "id": "b5c14c3d-be7b-4852-8dbb-b7078ca65f51",
   "metadata": {},
   "outputs": [
    {
     "name": "stdout",
     "output_type": "stream",
     "text": [
      "VALID!\n"
     ]
    }
   ],
   "source": [
    "card_number = '4151-1911-4544-1123'\n",
    "main(card_number)"
   ]
  },
  {
   "cell_type": "code",
   "execution_count": 4,
   "id": "b1f45317-da9a-456d-9a58-ddf8cad8e57d",
   "metadata": {},
   "outputs": [
    {
     "name": "stdout",
     "output_type": "stream",
     "text": [
      "INVALID!\n"
     ]
    }
   ],
   "source": [
    "card_number = '4151-1111-4544-1123'\n",
    "main(card_number)"
   ]
  },
  {
   "cell_type": "code",
   "execution_count": null,
   "id": "edd05e51-78f0-4078-9a72-07ff19458bbf",
   "metadata": {},
   "outputs": [],
   "source": []
  }
 ],
 "metadata": {
  "kernelspec": {
   "display_name": "Python 3 (ipykernel)",
   "language": "python",
   "name": "python3"
  },
  "language_info": {
   "codemirror_mode": {
    "name": "ipython",
    "version": 3
   },
   "file_extension": ".py",
   "mimetype": "text/x-python",
   "name": "python",
   "nbconvert_exporter": "python",
   "pygments_lexer": "ipython3",
   "version": "3.12.3"
  }
 },
 "nbformat": 4,
 "nbformat_minor": 5
}
